{
 "cells": [
  {
   "cell_type": "code",
   "execution_count": 1,
   "metadata": {},
   "outputs": [],
   "source": [
    "%%capture\n",
    "import os\n",
    "if \"COLAB_\" not in \"\".join(os.environ.keys()):\n",
    "    !pip install unsloth\n",
    "else:\n",
    "    # Do this only in Colab notebooks! Otherwise use pip install unsloth\n",
    "    !pip install --no-deps bitsandbytes accelerate xformers==0.0.29.post3 peft trl==0.15.2 triton cut_cross_entropy unsloth_zoo\n",
    "    !pip install sentencepiece protobuf \"datasets>=3.4.1\" huggingface_hub hf_transfer\n",
    "    !pip install --no-deps unsloth"
   ]
  },
  {
   "cell_type": "code",
   "execution_count": 1,
   "metadata": {},
   "outputs": [
    {
     "name": "stdout",
     "output_type": "stream",
     "text": [
      "🦥 Unsloth: Will patch your computer to enable 2x faster free finetuning.\n"
     ]
    },
    {
     "name": "stderr",
     "output_type": "stream",
     "text": [
      "2025-06-01 15:27:49.408660: E external/local_xla/xla/stream_executor/cuda/cuda_fft.cc:477] Unable to register cuFFT factory: Attempting to register factory for plugin cuFFT when one has already been registered\n",
      "WARNING: All log messages before absl::InitializeLog() is called are written to STDERR\n",
      "E0000 00:00:1748791669.431388     632 cuda_dnn.cc:8310] Unable to register cuDNN factory: Attempting to register factory for plugin cuDNN when one has already been registered\n",
      "E0000 00:00:1748791669.438564     632 cuda_blas.cc:1418] Unable to register cuBLAS factory: Attempting to register factory for plugin cuBLAS when one has already been registered\n"
     ]
    },
    {
     "name": "stdout",
     "output_type": "stream",
     "text": [
      "🦥 Unsloth Zoo will now patch everything to make training faster!\n",
      "==((====))==  Unsloth 2025.5.9: Fast Llama patching. Transformers: 4.51.3.\n",
      "   \\\\   /|    Tesla P100-PCIE-16GB. Num GPUs = 1. Max memory: 15.888 GB. Platform: Linux.\n",
      "O^O/ \\_/ \\    Torch: 2.6.0+cu124. CUDA: 6.0. CUDA Toolkit: 12.4. Triton: 3.2.0\n",
      "\\        /    Bfloat16 = FALSE. FA [Xformers = 0.0.29.post3. FA2 = False]\n",
      " \"-____-\"     Free license: http://github.com/unslothai/unsloth\n",
      "Unsloth: Fast downloading is enabled - ignore downloading bars which are red colored!\n"
     ]
    }
   ],
   "source": [
    "from unsloth import FastLanguageModel\n",
    "import torch\n",
    "max_seq_length = 2048 # Choose any! We auto support RoPE Scaling internally!\n",
    "dtype = None # None for auto detection. Float16 for Tesla T4, V100, Bfloat16 for Ampere+\n",
    "load_in_4bit = True # Use 4bit quantization to reduce memory usage. Can be False.\n",
    "\n",
    "# 4bit pre quantized models we support for 4x faster downloading + no OOMs.\n",
    "fourbit_models = [\n",
    "    \"unsloth/mistral-7b-v0.3-bnb-4bit\",      # New Mistral v3 2x faster!\n",
    "    \"unsloth/mistral-7b-instruct-v0.3-bnb-4bit\",\n",
    "    \"unsloth/llama-3-8b-bnb-4bit\",           # Llama-3 15 trillion tokens model 2x faster!\n",
    "    \"unsloth/llama-3-8b-Instruct-bnb-4bit\",\n",
    "    \"unsloth/llama-3-70b-bnb-4bit\",\n",
    "    \"unsloth/Phi-3-mini-4k-instruct\",        # Phi-3 2x faster!\n",
    "    \"unsloth/Phi-3-medium-4k-instruct\",\n",
    "    \"unsloth/mistral-7b-bnb-4bit\",\n",
    "    \"unsloth/gemma-7b-bnb-4bit\",             # Gemma 2.2x faster!\n",
    "] # More models at https://huggingface.co/unsloth\n",
    "\n",
    "model, tokenizer = FastLanguageModel.from_pretrained(\n",
    "    model_name = \"unsloth/llama-3-8b-Instruct-bnb-4bit\", # Choose ANY! eg teknium/OpenHermes-2.5-Mistral-7B\n",
    "    max_seq_length = max_seq_length,\n",
    "    dtype = dtype,\n",
    "    load_in_4bit = load_in_4bit,\n",
    "    # token = \"hf_...\", # use one if using gated models like meta-llama/Llama-2-7b-hf\n",
    ")"
   ]
  },
  {
   "cell_type": "code",
   "execution_count": 2,
   "metadata": {},
   "outputs": [
    {
     "name": "stderr",
     "output_type": "stream",
     "text": [
      "Unsloth 2025.5.9 patched 32 layers with 32 QKV layers, 32 O layers and 32 MLP layers.\n"
     ]
    }
   ],
   "source": [
    "model = FastLanguageModel.get_peft_model(\n",
    "    model,\n",
    "    r = 16, # Choose any number > 0 ! Suggested 8, 16, 32, 64, 128\n",
    "    target_modules = [\"q_proj\", \"k_proj\", \"v_proj\", \"o_proj\",\n",
    "                      \"gate_proj\", \"up_proj\", \"down_proj\",],\n",
    "    lora_alpha = 16,\n",
    "    lora_dropout = 0, # Supports any, but = 0 is optimized\n",
    "    bias = \"none\",    # Supports any, but = \"none\" is optimized\n",
    "    # [NEW] \"unsloth\" uses 30% less VRAM, fits 2x larger batch sizes!\n",
    "    use_gradient_checkpointing = \"unsloth\", # True or \"unsloth\" for very long context\n",
    "    random_state = 3407,\n",
    "    use_rslora = False,  # We support rank stabilized LoRA\n",
    "    loftq_config = None, # And LoftQ\n",
    ")"
   ]
  },
  {
   "cell_type": "code",
   "execution_count": 3,
   "metadata": {},
   "outputs": [
    {
     "name": "stdout",
     "output_type": "stream",
     "text": [
      "<|begin_of_text|><|start_header_id|>user<|end_header_id|>\n",
      "\n",
      "What is the typical wattage of bulb in a lightbox?<|eot_id|><|start_header_id|>assistant<|end_header_id|>\n",
      "\n",
      "The typical wattage of a bulb in a lightbox is 60 watts, although domestic LED bulbs are normally much lower than 60 watts, as they produce the same or greater lumens for less wattage than alternatives. A 60-watt Equivalent LED bulb can be calculated using the 7:1 ratio, which divides 60 watts by 7 to get roughly 9 watts.<|eot_id|><|start_header_id|>user<|end_header_id|>\n",
      "\n",
      "Rewrite your description of the typical wattage of a bulb in a lightbox to only include the key points in a list format.<|eot_id|>\n"
     ]
    }
   ],
   "source": [
    "from unsloth.chat_templates import get_chat_template\n",
    "\n",
    "tokenizer = get_chat_template(\n",
    "    tokenizer,\n",
    "    chat_template = \"llama-3\", \n",
    "    mapping = {\"role\" : \"from\", \"content\" : \"value\", \"user\" : \"human\", \"assistant\" : \"gpt\"}, \n",
    ")\n",
    "\n",
    "def formatting_prompts_func(examples):\n",
    "    convos = examples[\"conversations\"]\n",
    "    texts = [tokenizer.apply_chat_template(convo, tokenize = False, add_generation_prompt = False) for convo in convos]\n",
    "    return { \"text\" : texts, }\n",
    "pass\n",
    "\n",
    "from datasets import load_dataset\n",
    "dataset = load_dataset(\"philschmid/guanaco-sharegpt-style\", split = \"train\")\n",
    "dataset = dataset.map(formatting_prompts_func, batched = True,)\n",
    "\n",
    "dataset[5][\"conversations\"]\n",
    "\n",
    "print(dataset[5][\"text\"])\n",
    "\n",
    "unsloth_template = \\\n",
    "    \"{{ bos_token }}\"\\\n",
    "    \"{{ 'You are a helpful assistant to the user\\n' }}\"\\\n",
    "    \"{% for message in messages %}\"\\\n",
    "        \"{% if message['role'] == 'user' %}\"\\\n",
    "            \"{{ '>>> User: ' + message['content'] + '\\n' }}\"\\\n",
    "        \"{% elif message['role'] == 'assistant' %}\"\\\n",
    "            \"{{ '>>> Assistant: ' + message['content'] + eos_token + '\\n' }}\"\\\n",
    "        \"{% endif %}\"\\\n",
    "    \"{% endfor %}\"\\\n",
    "    \"{% if add_generation_prompt %}\"\\\n",
    "        \"{{ '>>> Assistant: ' }}\"\\\n",
    "    \"{% endif %}\"\n",
    "unsloth_eos_token = \"eos_token\"\n",
    "\n",
    "if False:\n",
    "    tokenizer = get_chat_template(\n",
    "        tokenizer,\n",
    "        chat_template = (unsloth_template, unsloth_eos_token,), # You must provide a template and EOS token\n",
    "        mapping = {\"role\" : \"from\", \"content\" : \"value\", \"user\" : \"human\", \"assistant\" : \"gpt\"}, # ShareGPT style\n",
    "        map_eos_token = True, # Maps <|im_end|> to </s> instead\n",
    "    )"
   ]
  },
  {
   "cell_type": "code",
   "execution_count": 4,
   "metadata": {},
   "outputs": [
    {
     "name": "stdout",
     "output_type": "stream",
     "text": [
      "Sample đã được format:\n",
      "<|begin_of_text|><|start_header_id|>user<|end_header_id|>\n",
      "\n",
      "Analyze the sentiment of this sentence: hide new secretions from the parental units<|eot_id|><|start_header_id|>assistant<|end_header_id|>\n",
      "\n",
      "negative<|eot_id|>\n",
      "\n",
      "==================================================\n",
      "\n",
      "<|begin_of_text|><|start_header_id|>user<|end_header_id|>\n",
      "\n",
      "Analyze the sentiment of this sentence: contains no wit , only labored gags<|eot_id|><|start_header_id|>assistant<|end_header_id|>\n",
      "\n",
      "negative<|eot_id|>\n",
      "\n",
      "Total original dataset size: 67349\n",
      "Using 1% subset size: 673\n",
      "Train dataset size: 605\n",
      "Validation dataset size: 68\n"
     ]
    }
   ],
   "source": [
    "from unsloth.chat_templates import get_chat_template\n",
    "\n",
    "tokenizer = get_chat_template(\n",
    "    tokenizer,\n",
    "    chat_template = \"llama-3\", \n",
    "    mapping = {\"role\" : \"from\", \"content\" : \"value\", \"user\" : \"human\", \"assistant\" : \"gpt\"},\n",
    ")\n",
    "\n",
    "from datasets import load_dataset\n",
    "\n",
    "sst2_dataset = load_dataset('glue', 'sst2')\n",
    "\n",
    "def format_sst2_for_chat(examples):\n",
    "    texts = []\n",
    "    for sentence, label in zip(examples['sentence'], examples['label']):\n",
    "        sentiment = \"positive\" if label == 1 else \"negative\"\n",
    "        \n",
    "        conversation = [\n",
    "            {\"from\": \"human\", \"value\": f\"Analyze the sentiment of this sentence: {sentence}\"},\n",
    "            {\"from\": \"gpt\", \"value\": sentiment}\n",
    "        ]\n",
    "        \n",
    "        text = tokenizer.apply_chat_template(conversation, tokenize=False, add_generation_prompt=False)\n",
    "        texts.append(text)\n",
    "    \n",
    "    return {\"text\": texts}\n",
    "\n",
    "total_size = len(sst2_dataset['train'])\n",
    "sample_size = int(0.01 * total_size)  \n",
    "subset_dataset = sst2_dataset['train'].select(range(sample_size))\n",
    "\n",
    "formatted_dataset = subset_dataset.map(format_sst2_for_chat, batched=True)\n",
    "\n",
    "print(\"Sample đã được format:\")\n",
    "print(formatted_dataset[0]['text'])\n",
    "print(\"\\n\" + \"=\"*50 + \"\\n\")\n",
    "print(formatted_dataset[1]['text'])\n",
    "\n",
    "train_size = int(0.9 * len(formatted_dataset))\n",
    "train_dataset = formatted_dataset.select(range(train_size))\n",
    "val_dataset = formatted_dataset.select(range(train_size, len(formatted_dataset)))\n",
    "\n",
    "print(f\"\\nTotal original dataset size: {total_size}\")\n",
    "print(f\"Using 1% subset size: {sample_size}\")\n",
    "print(f\"Train dataset size: {len(train_dataset)}\")\n",
    "print(f\"Validation dataset size: {len(val_dataset)}\")"
   ]
  },
  {
   "cell_type": "code",
   "execution_count": 5,
   "metadata": {},
   "outputs": [
    {
     "name": "stdout",
     "output_type": "stream",
     "text": [
      "Trainer được setup thành công!\n",
      "Sẽ training 50 steps với batch size 4\n"
     ]
    }
   ],
   "source": [
    "from trl import SFTTrainer\n",
    "from transformers import TrainingArguments\n",
    "from unsloth import is_bfloat16_supported\n",
    "import os\n",
    "\n",
    "os.environ[\"WANDB_DISABLED\"] = \"true\"\n",
    "os.environ[\"WANDB_MODE\"] = \"disabled\"\n",
    "\n",
    "trainer = SFTTrainer(\n",
    "    model = model,\n",
    "    tokenizer = tokenizer,\n",
    "    train_dataset = train_dataset,\n",
    "    dataset_text_field = \"text\",\n",
    "    max_seq_length = max_seq_length,\n",
    "    dataset_num_proc = 2,\n",
    "    packing = False,\n",
    "    args = TrainingArguments(\n",
    "        per_device_train_batch_size = 4,\n",
    "        warmup_steps = 2,\n",
    "        max_steps = 50,  \n",
    "        learning_rate = 2e-4,\n",
    "        fp16 = not is_bfloat16_supported(),\n",
    "        bf16 = is_bfloat16_supported(),\n",
    "        logging_steps = 5,  \n",
    "        optim = \"adamw_8bit\",\n",
    "        weight_decay = 0.01,\n",
    "        lr_scheduler_type = \"linear\",\n",
    "        seed = 3407,\n",
    "        output_dir = \"outputs\",\n",
    "        report_to = [],  \n",
    "    ),\n",
    ")\n",
    "\n",
    "print(\"Trainer được setup thành công!\")\n",
    "print(f\"Sẽ training {50} steps với batch size {4}\")"
   ]
  },
  {
   "cell_type": "code",
   "execution_count": 6,
   "metadata": {},
   "outputs": [
    {
     "name": "stdout",
     "output_type": "stream",
     "text": [
      "=== BẮT ĐẦU TRAINING ===\n",
      "Dataset size: 605\n",
      "Batch size: 4\n",
      "Total steps: 50\n",
      "==================================================\n"
     ]
    },
    {
     "name": "stderr",
     "output_type": "stream",
     "text": [
      "==((====))==  Unsloth - 2x faster free finetuning | Num GPUs used = 1\n",
      "   \\\\   /|    Num examples = 605 | Num Epochs = 1 | Total steps = 50\n",
      "O^O/ \\_/ \\    Batch size per device = 4 | Gradient accumulation steps = 1\n",
      "\\        /    Data Parallel GPUs = 1 | Total batch size (4 x 1 x 1) = 4\n",
      " \"-____-\"     Trainable parameters = 41,943,040/8,000,000,000 (0.52% trained)\n"
     ]
    },
    {
     "data": {
      "text/html": [
       "\n",
       "    <div>\n",
       "      \n",
       "      <progress value='50' max='50' style='width:300px; height:20px; vertical-align: middle;'></progress>\n",
       "      [50/50 01:29, Epoch 0/1]\n",
       "    </div>\n",
       "    <table border=\"1\" class=\"dataframe\">\n",
       "  <thead>\n",
       " <tr style=\"text-align: left;\">\n",
       "      <th>Step</th>\n",
       "      <th>Training Loss</th>\n",
       "    </tr>\n",
       "  </thead>\n",
       "  <tbody>\n",
       "    <tr>\n",
       "      <td>5</td>\n",
       "      <td>5.096700</td>\n",
       "    </tr>\n",
       "    <tr>\n",
       "      <td>10</td>\n",
       "      <td>2.739400</td>\n",
       "    </tr>\n",
       "    <tr>\n",
       "      <td>15</td>\n",
       "      <td>2.324400</td>\n",
       "    </tr>\n",
       "    <tr>\n",
       "      <td>20</td>\n",
       "      <td>2.178100</td>\n",
       "    </tr>\n",
       "    <tr>\n",
       "      <td>25</td>\n",
       "      <td>2.049200</td>\n",
       "    </tr>\n",
       "    <tr>\n",
       "      <td>30</td>\n",
       "      <td>1.905500</td>\n",
       "    </tr>\n",
       "    <tr>\n",
       "      <td>35</td>\n",
       "      <td>1.640800</td>\n",
       "    </tr>\n",
       "    <tr>\n",
       "      <td>40</td>\n",
       "      <td>1.605000</td>\n",
       "    </tr>\n",
       "    <tr>\n",
       "      <td>45</td>\n",
       "      <td>1.585900</td>\n",
       "    </tr>\n",
       "    <tr>\n",
       "      <td>50</td>\n",
       "      <td>1.640200</td>\n",
       "    </tr>\n",
       "  </tbody>\n",
       "</table><p>"
      ],
      "text/plain": [
       "<IPython.core.display.HTML object>"
      ]
     },
     "metadata": {},
     "output_type": "display_data"
    },
    {
     "name": "stdout",
     "output_type": "stream",
     "text": [
      "\n",
      "=== TRAINING HOÀN THÀNH ===\n",
      "Training loss: 2.2765\n",
      "Total training time: 93.3456 seconds\n"
     ]
    }
   ],
   "source": [
    "print(\"=== BẮT ĐẦU TRAINING ===\")\n",
    "print(f\"Dataset size: {len(train_dataset)}\")\n",
    "print(f\"Batch size: 4\")\n",
    "print(f\"Total steps: 50\")\n",
    "print(\"=\" * 50)\n",
    "\n",
    "trainer_stats = trainer.train()\n",
    "\n",
    "print(\"\\n=== TRAINING HOÀN THÀNH ===\")\n",
    "print(f\"Training loss: {trainer_stats.training_loss:.4f}\")\n",
    "print(f\"Total training time: {trainer_stats.metrics.get('train_runtime', 'N/A')} seconds\")"
   ]
  },
  {
   "cell_type": "code",
   "execution_count": 12,
   "metadata": {},
   "outputs": [
    {
     "name": "stdout",
     "output_type": "stream",
     "text": [
      "Sentence: This movie is absolutely fantastic!\n",
      "Predicted sentiment: positive\n",
      "--------------------------------------------------\n",
      "Sentence: I hate this boring film.\n",
      "Predicted sentiment: negative\n",
      "--------------------------------------------------\n",
      "Sentence: The acting was okay, nothing special.\n",
      "Predicted sentiment: positive\n",
      "--------------------------------------------------\n"
     ]
    }
   ],
   "source": [
    "FastLanguageModel.for_inference(model) \n",
    "\n",
    "test_sentences = [\n",
    "    \"This movie is absolutely fantastic!\",\n",
    "    \"I hate this boring film.\",\n",
    "    \"The acting was okay, nothing special.\"\n",
    "]\n",
    "\n",
    "for sentence in test_sentences:\n",
    "    messages = [\n",
    "        {\"role\": \"user\", \"content\": f\"Analyze the sentiment of this sentence: {sentence}\"}\n",
    "    ]\n",
    "    \n",
    "    inputs = tokenizer.apply_chat_template(\n",
    "        messages,\n",
    "        tokenize = True,\n",
    "        add_generation_prompt = True,\n",
    "        return_tensors = \"pt\"\n",
    "    ).to(\"cuda\")\n",
    "    \n",
    "    outputs = model.generate(\n",
    "        input_ids = inputs, \n",
    "        max_new_tokens = 10,\n",
    "        use_cache = True,\n",
    "        temperature = 0.1,\n",
    "        do_sample = True\n",
    "    )\n",
    "    \n",
    "    response = tokenizer.decode(outputs[0][inputs.shape[1]:], skip_special_tokens=True)\n",
    "    print(f\"Sentence: {sentence}\")\n",
    "    print(f\"Predicted sentiment: {response.strip()}\")\n",
    "    print(\"-\" * 50)"
   ]
  },
  {
   "cell_type": "code",
   "execution_count": 13,
   "metadata": {},
   "outputs": [
    {
     "name": "stdout",
     "output_type": "stream",
     "text": [
      "Loading SST-2 test dataset...\n",
      "\n",
      "🔥 ĐÁNH GIÁ FINE-TUNED MODEL\n",
      "============================================================\n",
      "Đang đánh giá Fine-tuned Model...\n"
     ]
    },
    {
     "name": "stderr",
     "output_type": "stream",
     "text": [
      "  1%|          | 1/100 [00:00<00:34,  2.83it/s]"
     ]
    },
    {
     "name": "stdout",
     "output_type": "stream",
     "text": [
      "Sample 1: 'it 's a charming and often affecting journey . ...' | True: positive | Pred: positive | Response: 'positive'\n"
     ]
    },
    {
     "name": "stderr",
     "output_type": "stream",
     "text": [
      "  2%|▏         | 2/100 [00:00<00:33,  2.96it/s]"
     ]
    },
    {
     "name": "stdout",
     "output_type": "stream",
     "text": [
      "Sample 2: 'unflinchingly bleak and desperate ...' | True: negative | Pred: negative | Response: 'negative'\n"
     ]
    },
    {
     "name": "stderr",
     "output_type": "stream",
     "text": [
      "  3%|▎         | 3/100 [00:01<00:35,  2.76it/s]"
     ]
    },
    {
     "name": "stdout",
     "output_type": "stream",
     "text": [
      "Sample 3: 'allows us to hope that nolan is poised to embark a...' | True: positive | Pred: positive | Response: 'positive'\n"
     ]
    },
    {
     "name": "stderr",
     "output_type": "stream",
     "text": [
      "  4%|▍         | 4/100 [00:01<00:35,  2.68it/s]"
     ]
    },
    {
     "name": "stdout",
     "output_type": "stream",
     "text": [
      "Sample 4: 'the acting , costumes , music , cinematography and...' | True: positive | Pred: positive | Response: 'positive'\n"
     ]
    },
    {
     "name": "stderr",
     "output_type": "stream",
     "text": [
      "  5%|▌         | 5/100 [00:01<00:33,  2.80it/s]"
     ]
    },
    {
     "name": "stdout",
     "output_type": "stream",
     "text": [
      "Sample 5: 'it 's slow -- very , very slow . ...' | True: negative | Pred: negative | Response: 'negative'\n"
     ]
    },
    {
     "name": "stderr",
     "output_type": "stream",
     "text": [
      "100%|██████████| 100/100 [00:38<00:00,  2.62it/s]"
     ]
    },
    {
     "name": "stdout",
     "output_type": "stream",
     "text": [
      "\n",
      "📊 FINE-TUNED MODEL RESULTS:\n",
      "Accuracy: 0.9400\n",
      "Precision: 0.8966\n",
      "Recall: 1.0000\n",
      "F1-Score: 0.9455\n"
     ]
    },
    {
     "name": "stderr",
     "output_type": "stream",
     "text": [
      "\n"
     ]
    }
   ],
   "source": [
    "# ĐÁNH GIÁ FINE-TUNED MODEL (model hiện tại đã được train)\n",
    "import torch\n",
    "from sklearn.metrics import accuracy_score, precision_recall_fscore_support\n",
    "from tqdm import tqdm\n",
    "from datasets import load_dataset\n",
    "\n",
    "def evaluate_model(model, tokenizer, test_dataset, model_name=\"Model\"):\n",
    "    \"\"\"Đánh giá model trên test dataset\"\"\"\n",
    "    model.eval()\n",
    "    predictions = []\n",
    "    true_labels = []\n",
    "    \n",
    "    print(f\"Đang đánh giá {model_name}...\")\n",
    "    \n",
    "    for i, sample in enumerate(tqdm(test_dataset)):\n",
    "        sentence = sample['sentence']\n",
    "        true_label = sample['label']  # 0: negative, 1: positive\n",
    "        \n",
    "        # Tạo prompt\n",
    "        messages = [\n",
    "            {\"role\": \"user\", \"content\": f\"Analyze the sentiment of this sentence: {sentence}\"}\n",
    "        ]\n",
    "        \n",
    "        # Tokenize input\n",
    "        inputs = tokenizer.apply_chat_template(\n",
    "            messages,\n",
    "            tokenize=True,\n",
    "            add_generation_prompt=True,\n",
    "            return_tensors=\"pt\"\n",
    "        ).to(\"cuda\")\n",
    "        \n",
    "        # Generate prediction\n",
    "        with torch.no_grad():\n",
    "            outputs = model.generate(\n",
    "                input_ids=inputs,\n",
    "                max_new_tokens=10,\n",
    "                use_cache=True,\n",
    "                temperature=0.1,\n",
    "                do_sample=False,\n",
    "                pad_token_id=tokenizer.eos_token_id\n",
    "            )\n",
    "        \n",
    "        # Decode response\n",
    "        response = tokenizer.decode(outputs[0][inputs.shape[1]:], skip_special_tokens=True).strip().lower()\n",
    "        \n",
    "        # Parse prediction\n",
    "        if \"positive\" in response:\n",
    "            pred_label = 1\n",
    "        elif \"negative\" in response:\n",
    "            pred_label = 0\n",
    "        else:\n",
    "            pred_label = 0  # Default to negative if unclear\n",
    "        \n",
    "        predictions.append(pred_label)\n",
    "        true_labels.append(true_label)\n",
    "        \n",
    "        # Debug first few predictions\n",
    "        if i < 5:\n",
    "            sentiment_true = \"positive\" if true_label == 1 else \"negative\"\n",
    "            sentiment_pred = \"positive\" if pred_label == 1 else \"negative\"\n",
    "            print(f\"Sample {i+1}: '{sentence[:50]}...' | True: {sentiment_true} | Pred: {sentiment_pred} | Response: '{response}'\")\n",
    "    \n",
    "    # Tính metrics\n",
    "    accuracy = accuracy_score(true_labels, predictions)\n",
    "    precision, recall, f1, _ = precision_recall_fscore_support(true_labels, predictions, average='binary')\n",
    "    \n",
    "    return {\n",
    "        'accuracy': accuracy,\n",
    "        'precision': precision,\n",
    "        'recall': recall,\n",
    "        'f1': f1,\n",
    "        'predictions': predictions,\n",
    "        'true_labels': true_labels\n",
    "    }\n",
    "\n",
    "# Load test dataset\n",
    "print(\"Loading SST-2 test dataset...\")\n",
    "sst2_test = load_dataset('glue', 'sst2', split='validation')\n",
    "test_subset = sst2_test.select(range(100))  # Use 100 samples for evaluation\n",
    "\n",
    "# Set model to inference mode\n",
    "FastLanguageModel.for_inference(model)\n",
    "\n",
    "# Đánh giá fine-tuned model\n",
    "print(\"\\n🔥 ĐÁNH GIÁ FINE-TUNED MODEL\")\n",
    "print(\"=\"*60)\n",
    "finetuned_results = evaluate_model(model, tokenizer, test_subset, \"Fine-tuned Model\")\n",
    "\n",
    "print(f\"\\n📊 FINE-TUNED MODEL RESULTS:\")\n",
    "print(f\"Accuracy: {finetuned_results['accuracy']:.4f}\")\n",
    "print(f\"Precision: {finetuned_results['precision']:.4f}\")\n",
    "print(f\"Recall: {finetuned_results['recall']:.4f}\")\n",
    "print(f\"F1-Score: {finetuned_results['f1']:.4f}\")\n",
    "\n",
    "# Save results for comparison\n",
    "finetuned_metrics = finetuned_results"
   ]
  },
  {
   "cell_type": "code",
   "execution_count": 14,
   "metadata": {},
   "outputs": [
    {
     "name": "stdout",
     "output_type": "stream",
     "text": [
      "🧹 Clearing GPU memory...\n",
      "💾 GPU memory cleared!\n",
      "Loading original model...\n",
      "==((====))==  Unsloth 2025.5.9: Fast Llama patching. Transformers: 4.51.3.\n",
      "   \\\\   /|    Tesla P100-PCIE-16GB. Num GPUs = 1. Max memory: 15.888 GB. Platform: Linux.\n",
      "O^O/ \\_/ \\    Torch: 2.6.0+cu124. CUDA: 6.0. CUDA Toolkit: 12.4. Triton: 3.2.0\n",
      "\\        /    Bfloat16 = FALSE. FA [Xformers = 0.0.29.post3. FA2 = False]\n",
      " \"-____-\"     Free license: http://github.com/unslothai/unsloth\n",
      "Unsloth: Fast downloading is enabled - ignore downloading bars which are red colored!\n",
      "\n",
      "🤖 ĐÁNH GIÁ ORIGINAL MODEL\n",
      "============================================================\n",
      "Đang đánh giá Original Model...\n"
     ]
    },
    {
     "name": "stderr",
     "output_type": "stream",
     "text": [
      "  1%|          | 1/100 [00:00<01:00,  1.63it/s]"
     ]
    },
    {
     "name": "stdout",
     "output_type": "stream",
     "text": [
      "Sample 1: 'it 's a charming and often affecting journey . ...' | True: positive | Pred: negative | Response: 'a lovely sentence!\n",
      "\n",
      "after analyzing the sentence, i'\n"
     ]
    },
    {
     "name": "stderr",
     "output_type": "stream",
     "text": [
      "  2%|▏         | 2/100 [00:01<00:59,  1.65it/s]"
     ]
    },
    {
     "name": "stdout",
     "output_type": "stream",
     "text": [
      "Sample 2: 'unflinchingly bleak and desperate ...' | True: negative | Pred: negative | Response: 'what a vivid and evocative phrase!\n",
      "\n",
      "the'\n"
     ]
    },
    {
     "name": "stderr",
     "output_type": "stream",
     "text": [
      "  3%|▎         | 3/100 [00:01<01:01,  1.58it/s]"
     ]
    },
    {
     "name": "stdout",
     "output_type": "stream",
     "text": [
      "Sample 3: 'allows us to hope that nolan is poised to embark a...' | True: positive | Pred: positive | Response: 'the sentiment of this sentence is positive.\n",
      "\n",
      "here'\n"
     ]
    },
    {
     "name": "stderr",
     "output_type": "stream",
     "text": [
      "  4%|▍         | 4/100 [00:02<01:01,  1.56it/s]"
     ]
    },
    {
     "name": "stdout",
     "output_type": "stream",
     "text": [
      "Sample 4: 'the acting , costumes , music , cinematography and...' | True: positive | Pred: positive | Response: 'the sentiment of this sentence is overwhelmingly positive.'\n"
     ]
    },
    {
     "name": "stderr",
     "output_type": "stream",
     "text": [
      "  5%|▌         | 5/100 [00:03<01:00,  1.58it/s]"
     ]
    },
    {
     "name": "stdout",
     "output_type": "stream",
     "text": [
      "Sample 5: 'it 's slow -- very , very slow . ...' | True: negative | Pred: negative | Response: 'a concise and expressive sentence!\n",
      "\n",
      "after analyzing the sentence'\n"
     ]
    },
    {
     "name": "stderr",
     "output_type": "stream",
     "text": [
      "100%|██████████| 100/100 [01:04<00:00,  1.55it/s]"
     ]
    },
    {
     "name": "stdout",
     "output_type": "stream",
     "text": [
      "\n",
      "📊 ORIGINAL MODEL RESULTS:\n",
      "Accuracy: 0.7200\n",
      "Precision: 1.0000\n",
      "Recall: 0.4615\n",
      "F1-Score: 0.6316\n",
      "\n",
      "📈 COMPARISON:\n",
      "Metric       Original   Fine-tuned   Improvement \n",
      "--------------------------------------------------\n",
      "Accuracy     0.7200     0.9400       +0.2200     \n",
      "Precision    1.0000     0.8966       -0.1034     \n",
      "Recall       0.4615     1.0000       +0.5385     \n",
      "F1           0.6316     0.9455       +0.3139     \n"
     ]
    },
    {
     "name": "stderr",
     "output_type": "stream",
     "text": [
      "\n"
     ]
    }
   ],
   "source": [
    "# CELL RIÊNG BIỆT: XÓA MEMORY VÀ ĐÁNH GIÁ MODEL GỐC\n",
    "import gc\n",
    "import torch\n",
    "\n",
    "# Clear GPU memory\n",
    "print(\"🧹 Clearing GPU memory...\")\n",
    "del model, tokenizer, trainer\n",
    "if 'trainer_stats' in locals():\n",
    "    del trainer_stats\n",
    "gc.collect()\n",
    "torch.cuda.empty_cache()\n",
    "\n",
    "print(\"💾 GPU memory cleared!\")\n",
    "print(\"Loading original model...\")\n",
    "\n",
    "# Load original model\n",
    "from unsloth import FastLanguageModel\n",
    "from unsloth.chat_templates import get_chat_template\n",
    "\n",
    "try:\n",
    "    original_model, original_tokenizer = FastLanguageModel.from_pretrained(\n",
    "        model_name=\"unsloth/llama-3-8b-Instruct-bnb-4bit\",\n",
    "        max_seq_length=2048,\n",
    "        dtype=None,\n",
    "        load_in_4bit=True,\n",
    "    )\n",
    "    \n",
    "    # Setup chat template for original model\n",
    "    original_tokenizer = get_chat_template(\n",
    "        original_tokenizer,\n",
    "        chat_template=\"llama-3\",\n",
    "        mapping={\"role\": \"from\", \"content\": \"value\", \"user\": \"human\", \"assistant\": \"gpt\"},\n",
    "    )\n",
    "    \n",
    "    # Set to inference mode\n",
    "    FastLanguageModel.for_inference(original_model)\n",
    "    \n",
    "    # Đánh giá original model\n",
    "    print(\"\\n🤖 ĐÁNH GIÁ ORIGINAL MODEL\")\n",
    "    print(\"=\"*60)\n",
    "    original_results = evaluate_model(original_model, original_tokenizer, test_subset, \"Original Model\")\n",
    "    \n",
    "    print(f\"\\n📊 ORIGINAL MODEL RESULTS:\")\n",
    "    print(f\"Accuracy: {original_results['accuracy']:.4f}\")\n",
    "    print(f\"Precision: {original_results['precision']:.4f}\")\n",
    "    print(f\"Recall: {original_results['recall']:.4f}\")\n",
    "    print(f\"F1-Score: {original_results['f1']:.4f}\")\n",
    "    \n",
    "    # Compare results if finetuned_metrics exists\n",
    "    if 'finetuned_metrics' in locals():\n",
    "        print(f\"\\n📈 COMPARISON:\")\n",
    "        print(f\"{'Metric':<12} {'Original':<10} {'Fine-tuned':<12} {'Improvement':<12}\")\n",
    "        print(\"-\"*50)\n",
    "        \n",
    "        for metric in ['accuracy', 'precision', 'recall', 'f1']:\n",
    "            orig_val = original_results[metric]\n",
    "            ft_val = finetuned_metrics[metric]\n",
    "            improvement = ft_val - orig_val\n",
    "            improvement_str = f\"+{improvement:.4f}\" if improvement > 0 else f\"{improvement:.4f}\"\n",
    "            \n",
    "            print(f\"{metric.capitalize():<12} {orig_val:<10.4f} {ft_val:<12.4f} {improvement_str:<12}\")\n",
    "    \n",
    "except Exception as e:\n",
    "    print(f\"❌ Error loading original model: {e}\")\n",
    "    print(\"💡 Try restarting the kernel if you still have memory issues\")"
   ]
  },
  {
   "cell_type": "code",
   "execution_count": 16,
   "metadata": {},
   "outputs": [
    {
     "data": {
      "image/png": "[encoded data removed]",
      "text/plain": [
       "<Figure size 1000x600 with 1 Axes>"
      ]
     },
     "metadata": {},
     "output_type": "display_data"
    }
   ],
   "source": [
    "import matplotlib.pyplot as plt\n",
    "import numpy as np\n",
    "\n",
    "# Dữ liệu từ hình ảnh của bạn\n",
    "metrics = ['Accuracy', 'Precision', 'Recall', 'F1-Score']\n",
    "original_scores = [0.7200, 1.0000, 0.4615, 0.6316]\n",
    "fine_tuned_scores = [0.9400, 0.8966, 1.0000, 0.9455]\n",
    "improvements = [f\"+{fine_tuned_scores[i] - original_scores[i]:.4f}\" for i in range(len(metrics))]\n",
    "improvements[1] = f\"{fine_tuned_scores[1] - original_scores[1]:.4f}\" # Điều chỉnh cho giá trị âm\n",
    "\n",
    "\n",
    "# Tạo biểu đồ\n",
    "x = np.arange(len(metrics))  # vị trí của các nhãn\n",
    "width = 0.35  # độ rộng của các cột\n",
    "\n",
    "fig, ax = plt.subplots(figsize=(10, 6))\n",
    "rects1 = ax.bar(x - width/2, original_scores, width, label='Original', color='skyblue')\n",
    "rects2 = ax.bar(x + width/2, fine_tuned_scores, width, label='Fine-tuned', color='lightcoral')\n",
    "\n",
    "# Thêm nhãn, tiêu đề và chú thích\n",
    "ax.set_ylabel('Scores')\n",
    "ax.set_title('Comparison of Model Performance')\n",
    "ax.set_xticks(x)\n",
    "ax.set_xticklabels(metrics)\n",
    "ax.legend()\n",
    "\n",
    "# Thêm giá trị trên mỗi cột\n",
    "def autolabel(rects, improvement_texts=None, is_original=False):\n",
    "    \"\"\"Gắn nhãn giá trị lên trên các cột.\"\"\"\n",
    "    for i, rect in enumerate(rects):\n",
    "        height = rect.get_height()\n",
    "        ax.annotate(f'{height:.4f}',\n",
    "                    xy=(rect.get_x() + rect.get_width() / 2, height),\n",
    "                    xytext=(0, 3),  # 3 điểm offset theo chiều dọc\n",
    "                    textcoords=\"offset points\",\n",
    "                    ha='center', va='bottom')\n",
    "        if not is_original and improvement_texts: # Chỉ thêm improvement cho fine-tuned\n",
    "            ax.annotate(f'({improvement_texts[i]})',\n",
    "                        xy=(rect.get_x() + rect.get_width() / 2, height / 2), # Hiển thị ở giữa cột\n",
    "                        xytext=(0, 0),\n",
    "                        textcoords=\"offset points\",\n",
    "                        ha='center', va='center',\n",
    "                        fontsize=9, color='black',\n",
    "                        bbox=dict(boxstyle=\"round,pad=0.3\", fc=\"yellow\", ec=\"black\", lw=0.5, alpha=0.7))\n",
    "\n",
    "\n",
    "autolabel(rects1, is_original=True)\n",
    "autolabel(rects2, improvement_texts=improvements)\n",
    "\n",
    "fig.tight_layout() # Tự động điều chỉnh các tham số để vừa với cửa sổ hình ảnh\n",
    "plt.ylim(0, 1.1) # Đặt giới hạn cho trục y để dễ so sánh hơn (vì precision có thể là 1.0)\n",
    "plt.grid(axis='y', linestyle='--') # Thêm lưới ngang để dễ đọc\n",
    "plt.show()"
   ]
  },
  {
   "cell_type": "code",
   "execution_count": null,
   "metadata": {},
   "outputs": [],
   "source": []
  }
 ],
 "metadata": {
  "kernelspec": {
   "display_name": "Python 3 (ipykernel)",
   "language": "python",
   "name": "python3"
  },
  "language_info": {
   "codemirror_mode": {
    "name": "ipython",
    "version": 3
   },
   "file_extension": ".py",
   "mimetype": "text/x-python",
   "name": "python",
   "nbconvert_exporter": "python",
   "pygments_lexer": "ipython3",
   "version": "3.11.11"
  }
 },
 "nbformat": 4,
 "nbformat_minor": 2
}
